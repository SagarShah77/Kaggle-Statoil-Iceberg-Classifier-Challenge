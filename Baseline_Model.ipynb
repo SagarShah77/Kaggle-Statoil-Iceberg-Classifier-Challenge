{
 "cells": [
  {
   "cell_type": "code",
   "execution_count": 1,
   "metadata": {},
   "outputs": [
    {
     "name": "stderr",
     "output_type": "stream",
     "text": [
      "Using TensorFlow backend.\n"
     ]
    }
   ],
   "source": [
    "import pandas as pd \n",
    "import numpy as np \n",
    "import cv2 # Used to manipulated the images \n",
    "np.random.seed(1337) # The seed I used - pick your own or comment out for a random seed. A constant seed allows for better comparisons though\n",
    "\n",
    "# Import Keras \n",
    "from keras.models import Sequential\n",
    "from keras.layers import Dense, Dropout, Flatten, Activation\n",
    "from keras.layers import Conv2D, MaxPooling2D\n",
    "from keras.callbacks import EarlyStopping, ModelCheckpoint, ReduceLROnPlateau\n",
    "from keras.layers.normalization import BatchNormalization\n",
    "from keras.optimizers import Adam, Nadam, SGD, RMSprop"
   ]
  },
  {
   "cell_type": "code",
   "execution_count": 3,
   "metadata": {},
   "outputs": [],
   "source": [
    "df_train = pd.read_json(\"C:\\\\Users\\\\dshah\\\\Desktop\\\\data\\\\processed\\\\train.json\") # this is a dataframe"
   ]
  },
  {
   "cell_type": "code",
   "execution_count": 4,
   "metadata": {},
   "outputs": [],
   "source": [
    "def get_scaled_imgs(df):\n",
    "    imgs = []\n",
    "    \n",
    "    for i, row in df.iterrows():\n",
    "        #make 75x75 image\n",
    "        band_1 = np.array(row['band_1']).reshape(75, 75)\n",
    "        band_2 = np.array(row['band_2']).reshape(75, 75)\n",
    "        band_3 = band_1 + band_2 # plus since log(x*y) = log(x) + log(y)\n",
    "        \n",
    "        # Rescale\n",
    "        a = (band_1 - band_1.mean()) / (band_1.max() - band_1.min())\n",
    "        b = (band_2 - band_2.mean()) / (band_2.max() - band_2.min())\n",
    "        c = (band_3 - band_3.mean()) / (band_3.max() - band_3.min())\n",
    "\n",
    "        imgs.append(np.dstack((a, b, c)))\n",
    "\n",
    "    return np.array(imgs)"
   ]
  },
  {
   "cell_type": "code",
   "execution_count": 5,
   "metadata": {},
   "outputs": [],
   "source": [
    "Xtrain = get_scaled_imgs(df_train)"
   ]
  },
  {
   "cell_type": "code",
   "execution_count": 6,
   "metadata": {},
   "outputs": [],
   "source": [
    "Ytrain = np.array(df_train['is_iceberg'])\n"
   ]
  },
  {
   "cell_type": "code",
   "execution_count": 7,
   "metadata": {},
   "outputs": [],
   "source": [
    "df_train.inc_angle = df_train.inc_angle.replace('na',0)\n",
    "idx_tr = np.where(df_train.inc_angle>0)"
   ]
  },
  {
   "cell_type": "code",
   "execution_count": 8,
   "metadata": {},
   "outputs": [],
   "source": [
    "Ytrain = Ytrain[idx_tr[0]]\n",
    "Xtrain = Xtrain[idx_tr[0],...]"
   ]
  },
  {
   "cell_type": "code",
   "execution_count": 9,
   "metadata": {},
   "outputs": [],
   "source": [
    "def get_more_images(imgs):\n",
    "    \n",
    "    more_images = []\n",
    "    vert_flip_imgs = []\n",
    "    hori_flip_imgs = []\n",
    "      \n",
    "    for i in range(0,imgs.shape[0]):\n",
    "        a=imgs[i,:,:,0]\n",
    "        b=imgs[i,:,:,1]\n",
    "        c=imgs[i,:,:,2]\n",
    "        \n",
    "        av=cv2.flip(a,1)\n",
    "        ah=cv2.flip(a,0)\n",
    "        bv=cv2.flip(b,1)\n",
    "        bh=cv2.flip(b,0)\n",
    "        cv=cv2.flip(c,1)\n",
    "        ch=cv2.flip(c,0)\n",
    "        \n",
    "        vert_flip_imgs.append(np.dstack((av, bv, cv)))\n",
    "        hori_flip_imgs.append(np.dstack((ah, bh, ch)))\n",
    "      \n",
    "    v = np.array(vert_flip_imgs)\n",
    "    h = np.array(hori_flip_imgs)\n",
    "       \n",
    "    more_images = np.concatenate((imgs,v,h))\n",
    "    \n",
    "    return more_images"
   ]
  },
  {
   "cell_type": "code",
   "execution_count": 36,
   "metadata": {},
   "outputs": [],
   "source": [
    "def get_more_images2(imgs):\n",
    "    \n",
    "    more_images = []\n",
    "    vert_flip_imgs = []\n",
    "    hori_flip_imgs = []\n",
    "      \n",
    "    for i in range(0,imgs.shape[0]):\n",
    "        a=imgs[i,:,:,0]\n",
    "        b=imgs[i,:,:,1]\n",
    "        c=imgs[i,:,:,2]\n",
    "        \n",
    "        av3=cv2.rotate(a,1)\n",
    "        ah3=cv2.rotate(a,0)\n",
    "        bv3=cv2.rotate(b,1)\n",
    "        bh3=cv2.rotate(b,0)\n",
    "        cv3=cv2.rotate(c,1)\n",
    "        ch3=cv2.rotate(c,0)\n",
    "        \n",
    "        vert_flip_imgs.append(np.dstack((av3, bv3, cv3)))\n",
    "        hori_flip_imgs.append(np.dstack((ah3, bh3, ch3)))\n",
    "      \n",
    "    v = np.array(vert_flip_imgs)\n",
    "    h = np.array(hori_flip_imgs)\n",
    "       \n",
    "    more_images = np.concatenate((imgs,v,h))\n",
    "    \n",
    "    return more_images"
   ]
  },
  {
   "cell_type": "code",
   "execution_count": 42,
   "metadata": {},
   "outputs": [],
   "source": [
    "Xtr_more1 = get_more_images(Xtrain)"
   ]
  },
  {
   "cell_type": "code",
   "execution_count": 43,
   "metadata": {},
   "outputs": [],
   "source": [
    "Xtr_more = get_more_images2(Xtr_more1)"
   ]
  },
  {
   "cell_type": "code",
   "execution_count": 93,
   "metadata": {},
   "outputs": [
    {
     "data": {
      "text/plain": [
       "(1471, 75, 75, 3)"
      ]
     },
     "execution_count": 93,
     "metadata": {},
     "output_type": "execute_result"
    }
   ],
   "source": [
    "Xtrain.shape"
   ]
  },
  {
   "cell_type": "code",
   "execution_count": 94,
   "metadata": {},
   "outputs": [
    {
     "data": {
      "text/plain": [
       "(1471,)"
      ]
     },
     "execution_count": 94,
     "metadata": {},
     "output_type": "execute_result"
    }
   ],
   "source": [
    "Ytrain.shape"
   ]
  },
  {
   "cell_type": "code",
   "execution_count": 57,
   "metadata": {
    "scrolled": true
   },
   "outputs": [
    {
     "data": {
      "text/plain": [
       "(4413, 75, 75, 3)"
      ]
     },
     "execution_count": 57,
     "metadata": {},
     "output_type": "execute_result"
    }
   ],
   "source": [
    "Xtr_more1.shape"
   ]
  },
  {
   "cell_type": "code",
   "execution_count": 45,
   "metadata": {},
   "outputs": [
    {
     "data": {
      "text/plain": [
       "(13239, 75, 75, 3)"
      ]
     },
     "execution_count": 45,
     "metadata": {},
     "output_type": "execute_result"
    }
   ],
   "source": [
    "Xtr_more.shape"
   ]
  },
  {
   "cell_type": "code",
   "execution_count": 62,
   "metadata": {},
   "outputs": [
    {
     "data": {
      "text/plain": [
       "(13239,)"
      ]
     },
     "execution_count": 62,
     "metadata": {},
     "output_type": "execute_result"
    }
   ],
   "source": [
    "Ytr_more.shape"
   ]
  },
  {
   "cell_type": "code",
   "execution_count": 61,
   "metadata": {},
   "outputs": [],
   "source": [
    "Ytr_more = np.concatenate((Ytrain,Ytrain,Ytrain,Ytrain,Ytrain,Ytrain,Ytrain,Ytrain,Ytrain))"
   ]
  },
  {
   "cell_type": "code",
   "execution_count": 63,
   "metadata": {},
   "outputs": [],
   "source": [
    "def getModel():\n",
    "    #Build keras model\n",
    "    \n",
    "    model=Sequential()\n",
    "    \n",
    "    # CNN 1\n",
    "    model.add(Conv2D(64, kernel_size=(3, 3),activation='relu', input_shape=(75, 75, 3)))\n",
    "    model.add(MaxPooling2D(pool_size=(3, 3), strides=(2, 2)))\n",
    "    model.add(Dropout(0.15))\n",
    "    \n",
    "    \n",
    "    # CNN 2\n",
    "    model.add(Conv2D(128, kernel_size=(3, 3), activation='relu' ))\n",
    "    model.add(MaxPooling2D(pool_size=(3, 3), strides=(2, 2)))\n",
    "    model.add(Dropout(0.15))\n",
    "\n",
    "    # CNN 3\n",
    "    model.add(Conv2D(128, kernel_size=(3, 3), activation='relu'))\n",
    "    model.add(MaxPooling2D(pool_size=(3, 3), strides=(2, 2)))\n",
    "    model.add(Dropout(0.15))\n",
    "\n",
    "    #CNN 4\n",
    "    model.add(Conv2D(64, kernel_size=(3, 3), activation='relu'))\n",
    "    model.add(MaxPooling2D(pool_size=(3, 3), strides=(2, 2)))\n",
    "    model.add(Dropout(0.15))\n",
    "\n",
    "    # You must flatten the data for the dense layers\n",
    "    model.add(Flatten())\n",
    "\n",
    "    #Dense 1\n",
    "    model.add(Dense(512, activation='relu'))\n",
    "    model.add(Dropout(0.15))\n",
    "\n",
    "    #Dense 2\n",
    "    model.add(Dense(256, activation='relu'))\n",
    "    model.add(Dropout(0.15))\n",
    "    \n",
    "    # Output \n",
    "    model.add(Dense(1, activation=\"sigmoid\"))\n",
    "\n",
    "    optimizer = Adam(lr=0.001, decay=0.0)\n",
    "    model.compile(loss='binary_crossentropy', optimizer=optimizer, metrics=['accuracy'])\n",
    "    \n",
    "    return model\n"
   ]
  },
  {
   "cell_type": "code",
   "execution_count": 85,
   "metadata": {},
   "outputs": [],
   "source": [
    "def getModel2():\n",
    "    \n",
    "    #Build keras model\n",
    "    \n",
    "    model=Sequential()\n",
    "    \n",
    "    # Block 1\n",
    "    model.add(Conv2D(128, kernel_size=(3, 3), activation='relu', padding='same', input_shape=(75, 75, 3)))\n",
    "    #model.add(Conv2D(64, kernel_size=(3, 3), activation='relu', padding='same'))\n",
    "    model.add(MaxPooling2D((2, 2), strides=(2, 2)))\n",
    "    model.add(Dropout(0.15))\n",
    "\n",
    "    # Block 2\n",
    "    model.add(Conv2D(128, kernel_size=(3, 3), activation='relu', padding='same'))\n",
    "    #model.add(Conv2D(128, kernel_size=(3, 3), activation='relu', padding='same'))\n",
    "    model.add(MaxPooling2D((2, 2), strides=(2, 2)))\n",
    "    model.add(Dropout(0.15))\n",
    "\n",
    "\n",
    "    # Block 3\n",
    "    model.add(Conv2D(256, kernel_size=(3, 3), activation='relu', padding='same'))\n",
    "    #model.add(Conv2D(256, kernel_size=(3, 3), activation='relu', padding='same'))\n",
    "    #model.add(Conv2D(256, kernel_size=(3, 3), activation='relu', padding='same'))\n",
    "    #model.add(Conv2D(256, kernel_size=(3, 3), activation='relu', padding='same'))\n",
    "    model.add(MaxPooling2D((2, 2), strides=(2, 2)))\n",
    "    model.add(Dropout(0.15))\n",
    "              \n",
    "    # Block 4\n",
    "    model.add(Conv2D(512, kernel_size=(3, 3), activation='relu', padding='same'))\n",
    "    model.add(Conv2D(512, kernel_size=(3, 3), activation='relu', padding='same'))\n",
    "    #model.add(Conv2D(512, kernel_size=(3, 3), activation='relu', padding='same'))\n",
    "    #model.add(Conv2D(512, kernel_size=(3, 3), activation='relu', padding='same'))\n",
    "    model.add(MaxPooling2D((2, 2), strides=(2, 2)))\n",
    "    model.add(Dropout(0.15))\n",
    "              \n",
    "    # Block 5\n",
    "    #model.add(Conv2D(512, kernel_size=(3, 3), activation='relu', padding='same'))\n",
    "    #model.add(Conv2D(512, kernel_size=(3, 3), activation='relu', padding='same'))\n",
    "    #model.add(Conv2D(512, kernel_size=(3, 3), activation='relu', padding='same'))\n",
    "    #model.add(Conv2D(512, kernel_size=(3, 3), activation='relu', padding='same'))\n",
    "    #model.add(MaxPooling2D((2, 2), strides=(2, 2)))\n",
    "    #\n",
    "    \n",
    "    \n",
    "    \n",
    "    \n",
    "    \n",
    "    \n",
    "    model.add(Dropout(0.15))\n",
    "    \n",
    "    # Classification block\n",
    "    model.add(Flatten())\n",
    "    model.add(Dense(512, activation='relu'))\n",
    "    model.add(Dropout(0.15))\n",
    "    model.add(Dense(256, activation='relu'))\n",
    "    model.add(Dropout(0.15))\n",
    "    #model.add(Dense(1024, activation='relu'))\n",
    "    #model.add(Dropout(0.15))\n",
    "    #model.add(Dense(512, activation='relu'))\n",
    "    #model.add(Dropout(0.15))\n",
    "\n",
    "    # Output \n",
    "    model.add(Dense(1, activation=\"sigmoid\"))\n",
    "\n",
    "    optimizer = Adam(lr=0.001, decay=0.0)\n",
    "    model.compile(loss='binary_crossentropy', optimizer=optimizer, metrics=['accuracy'])\n",
    "    \n",
    "    return model"
   ]
  },
  {
   "cell_type": "code",
   "execution_count": 86,
   "metadata": {},
   "outputs": [
    {
     "name": "stdout",
     "output_type": "stream",
     "text": [
      "_________________________________________________________________\n",
      "Layer (type)                 Output Shape              Param #   \n",
      "=================================================================\n",
      "conv2d_76 (Conv2D)           (None, 75, 75, 128)       3584      \n",
      "_________________________________________________________________\n",
      "max_pooling2d_54 (MaxPooling (None, 37, 37, 128)       0         \n",
      "_________________________________________________________________\n",
      "dropout_89 (Dropout)         (None, 37, 37, 128)       0         \n",
      "_________________________________________________________________\n",
      "conv2d_77 (Conv2D)           (None, 37, 37, 128)       147584    \n",
      "_________________________________________________________________\n",
      "max_pooling2d_55 (MaxPooling (None, 18, 18, 128)       0         \n",
      "_________________________________________________________________\n",
      "dropout_90 (Dropout)         (None, 18, 18, 128)       0         \n",
      "_________________________________________________________________\n",
      "conv2d_78 (Conv2D)           (None, 18, 18, 256)       295168    \n",
      "_________________________________________________________________\n",
      "max_pooling2d_56 (MaxPooling (None, 9, 9, 256)         0         \n",
      "_________________________________________________________________\n",
      "dropout_91 (Dropout)         (None, 9, 9, 256)         0         \n",
      "_________________________________________________________________\n",
      "conv2d_79 (Conv2D)           (None, 9, 9, 512)         1180160   \n",
      "_________________________________________________________________\n",
      "conv2d_80 (Conv2D)           (None, 9, 9, 512)         2359808   \n",
      "_________________________________________________________________\n",
      "max_pooling2d_57 (MaxPooling (None, 4, 4, 512)         0         \n",
      "_________________________________________________________________\n",
      "dropout_92 (Dropout)         (None, 4, 4, 512)         0         \n",
      "_________________________________________________________________\n",
      "flatten_13 (Flatten)         (None, 8192)              0         \n",
      "_________________________________________________________________\n",
      "dense_48 (Dense)             (None, 512)               4194816   \n",
      "_________________________________________________________________\n",
      "dropout_93 (Dropout)         (None, 512)               0         \n",
      "_________________________________________________________________\n",
      "dense_49 (Dense)             (None, 256)               131328    \n",
      "_________________________________________________________________\n",
      "dropout_94 (Dropout)         (None, 256)               0         \n",
      "_________________________________________________________________\n",
      "dense_50 (Dense)             (None, 1)                 257       \n",
      "=================================================================\n",
      "Total params: 8,312,705\n",
      "Trainable params: 8,312,705\n",
      "Non-trainable params: 0\n",
      "_________________________________________________________________\n"
     ]
    }
   ],
   "source": [
    "model = getModel2()\n",
    "model.summary()\n",
    "\n",
    "batch_size = 20\n",
    "earlyStopping = EarlyStopping(monitor='val_loss', patience=10, verbose=0, mode='min')\n",
    "mcp_save = ModelCheckpoint('.mdl_wts2.hdf5', save_best_only=True, monitor='val_loss', mode='min')\n",
    "reduce_lr_loss = ReduceLROnPlateau(monitor='val_loss', factor=0.1, patience=7, verbose=1, epsilon=1e-4, mode='min')"
   ]
  },
  {
   "cell_type": "code",
   "execution_count": 87,
   "metadata": {
    "scrolled": true
   },
   "outputs": [
    {
     "name": "stdout",
     "output_type": "stream",
     "text": [
      "Train on 9929 samples, validate on 3310 samples\n",
      "Epoch 1/50\n",
      "9929/9929 [==============================] - 608s - loss: 0.6557 - acc: 0.5964 - val_loss: 0.6315 - val_acc: 0.7257\n",
      "Epoch 2/50\n",
      "9929/9929 [==============================] - 604s - loss: 0.4436 - acc: 0.7873 - val_loss: 0.4101 - val_acc: 0.8079\n",
      "Epoch 3/50\n",
      "9929/9929 [==============================] - 603s - loss: 0.3767 - acc: 0.8124 - val_loss: 0.6089 - val_acc: 0.7242\n",
      "Epoch 4/50\n",
      "9929/9929 [==============================] - 605s - loss: 0.3123 - acc: 0.8492 - val_loss: 0.3901 - val_acc: 0.8097\n",
      "Epoch 5/50\n",
      "9929/9929 [==============================] - 603s - loss: 0.2713 - acc: 0.8701 - val_loss: 0.2958 - val_acc: 0.8695\n",
      "Epoch 6/50\n",
      "9929/9929 [==============================] - 602s - loss: 0.2570 - acc: 0.8857 - val_loss: 0.2850 - val_acc: 0.8653\n",
      "Epoch 7/50\n",
      "9929/9929 [==============================] - 603s - loss: 0.2326 - acc: 0.8966 - val_loss: 0.2890 - val_acc: 0.8698\n",
      "Epoch 8/50\n",
      "9929/9929 [==============================] - 604s - loss: 0.2176 - acc: 0.9080 - val_loss: 0.2720 - val_acc: 0.8855\n",
      "Epoch 9/50\n",
      "9929/9929 [==============================] - 605s - loss: 0.1987 - acc: 0.9179 - val_loss: 0.2777 - val_acc: 0.8692\n",
      "Epoch 10/50\n",
      "9929/9929 [==============================] - 604s - loss: 0.1945 - acc: 0.9213 - val_loss: 0.3238 - val_acc: 0.8438\n",
      "Epoch 11/50\n",
      "9929/9929 [==============================] - 602s - loss: 0.1767 - acc: 0.9293 - val_loss: 0.3730 - val_acc: 0.8637\n",
      "Epoch 12/50\n",
      "9929/9929 [==============================] - 606s - loss: 0.1585 - acc: 0.9362 - val_loss: 0.2953 - val_acc: 0.8616\n",
      "Epoch 13/50\n",
      "9929/9929 [==============================] - 605s - loss: 0.1652 - acc: 0.9355 - val_loss: 0.2714 - val_acc: 0.8740\n",
      "Epoch 14/50\n",
      "9929/9929 [==============================] - 604s - loss: 0.1413 - acc: 0.9413 - val_loss: 0.3180 - val_acc: 0.8849\n",
      "Epoch 15/50\n",
      "9929/9929 [==============================] - 604s - loss: 0.1574 - acc: 0.9388 - val_loss: 0.3669 - val_acc: 0.8562\n",
      "Epoch 16/50\n",
      "9929/9929 [==============================] - 602s - loss: 0.1230 - acc: 0.9549 - val_loss: 0.3075 - val_acc: 0.8906\n",
      "Epoch 17/50\n",
      "9929/9929 [==============================] - 605s - loss: 0.1247 - acc: 0.9519 - val_loss: 0.3041 - val_acc: 0.8837\n",
      "Epoch 18/50\n",
      "9929/9929 [==============================] - 604s - loss: 0.1090 - acc: 0.9608 - val_loss: 0.2557 - val_acc: 0.8822\n",
      "Epoch 19/50\n",
      "9929/9929 [==============================] - 604s - loss: 0.1021 - acc: 0.9624 - val_loss: 0.4152 - val_acc: 0.8559\n",
      "Epoch 20/50\n",
      "9929/9929 [==============================] - 605s - loss: 0.1286 - acc: 0.9513 - val_loss: 0.3652 - val_acc: 0.8822\n",
      "Epoch 21/50\n",
      "9929/9929 [==============================] - 604s - loss: 0.1064 - acc: 0.9584 - val_loss: 0.4538 - val_acc: 0.8795\n",
      "Epoch 22/50\n",
      "9929/9929 [==============================] - 604s - loss: 0.0901 - acc: 0.9661 - val_loss: 0.2820 - val_acc: 0.8879\n",
      "Epoch 23/50\n",
      "9929/9929 [==============================] - 604s - loss: 0.0776 - acc: 0.9703 - val_loss: 0.7517 - val_acc: 0.8314\n",
      "Epoch 24/50\n",
      "9929/9929 [==============================] - 603s - loss: 0.0973 - acc: 0.9633 - val_loss: 0.3078 - val_acc: 0.8843\n",
      "Epoch 25/50\n",
      "9929/9929 [==============================] - 604s - loss: 0.0755 - acc: 0.9729 - val_loss: 0.3895 - val_acc: 0.8725\n",
      "Epoch 26/50\n",
      "9920/9929 [============================>.] - ETA: 0s - loss: 0.0751 - acc: 0.9728\n",
      "Epoch 00025: reducing learning rate to 0.00010000000474974513.\n",
      "9929/9929 [==============================] - 603s - loss: 0.0751 - acc: 0.9728 - val_loss: 0.3535 - val_acc: 0.8770\n",
      "Epoch 27/50\n",
      "9929/9929 [==============================] - 603s - loss: 0.0527 - acc: 0.9812 - val_loss: 0.4168 - val_acc: 0.8761\n",
      "Epoch 28/50\n",
      "9929/9929 [==============================] - 603s - loss: 0.0399 - acc: 0.9866 - val_loss: 0.4011 - val_acc: 0.8789\n",
      "Epoch 29/50\n",
      "9929/9929 [==============================] - 604s - loss: 0.0290 - acc: 0.9891 - val_loss: 0.4409 - val_acc: 0.8822\n"
     ]
    },
    {
     "data": {
      "text/plain": [
       "<keras.callbacks.History at 0x21aa2d24ba8>"
      ]
     },
     "execution_count": 87,
     "metadata": {},
     "output_type": "execute_result"
    }
   ],
   "source": [
    "model.fit(Xtr_more, Ytr_more, batch_size=batch_size, epochs=50, verbose=1, callbacks=[earlyStopping, mcp_save, reduce_lr_loss], validation_split=0.25)"
   ]
  },
  {
   "cell_type": "code",
   "execution_count": 90,
   "metadata": {},
   "outputs": [
    {
     "name": "stdout",
     "output_type": "stream",
     "text": [
      "1471/1471 [==============================] - 20s    \n",
      "Train score: 0.12167462309\n",
      "Train accuracy: 0.950373895309\n"
     ]
    }
   ],
   "source": [
    "model.load_weights(filepath = '.mdl_wts2.hdf5')\n",
    "\n",
    "score = model.evaluate(Xtrain, Ytrain, verbose=1)\n",
    "print('Train score:', score[0])\n",
    "print('Train accuracy:', score[1])"
   ]
  },
  {
   "cell_type": "code",
   "execution_count": 91,
   "metadata": {},
   "outputs": [],
   "source": [
    "df_test = pd.read_json(\"C:\\\\Users\\\\dshah\\\\Desktop\\\\data\\\\processed\\\\test.json\")\n",
    "df_test.inc_angle = df_test.inc_angle.replace('na',0)"
   ]
  },
  {
   "cell_type": "code",
   "execution_count": 92,
   "metadata": {},
   "outputs": [
    {
     "name": "stdout",
     "output_type": "stream",
     "text": [
      "         id  is_iceberg\n",
      "0  5941774d    0.001493\n",
      "1  4023181e    1.000000\n",
      "2  b20200e4    0.023205\n",
      "3  e7f018bb    1.000000\n",
      "4  4371c8c3    1.000000\n",
      "5  a8d9b1fd    0.076170\n",
      "6  29e7727e    0.069936\n",
      "7  92a51ffb    1.000000\n",
      "8  c769ac97    0.000014\n",
      "9  aee0547d    0.000071\n"
     ]
    }
   ],
   "source": [
    "Xtest = (get_scaled_imgs(df_test))\n",
    "pred_test = model.predict(Xtest)\n",
    "\n",
    "submission = pd.DataFrame({'id': df_test[\"id\"], 'is_iceberg': pred_test.reshape((pred_test.shape[0]))})\n",
    "print(submission.head(10))\n",
    "\n",
    "submission.to_csv('submission3_ADAM(5).csv', index=False)"
   ]
  }
 ],
 "metadata": {
  "kernelspec": {
   "display_name": "Python 3",
   "language": "python",
   "name": "python3"
  },
  "language_info": {
   "codemirror_mode": {
    "name": "ipython",
    "version": 3
   },
   "file_extension": ".py",
   "mimetype": "text/x-python",
   "name": "python",
   "nbconvert_exporter": "python",
   "pygments_lexer": "ipython3",
   "version": "3.6.1"
  }
 },
 "nbformat": 4,
 "nbformat_minor": 2
}
